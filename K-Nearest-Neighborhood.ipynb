{
 "cells": [
  {
   "cell_type": "code",
   "execution_count": 3,
   "metadata": {},
   "outputs": [
    {
     "data": {
      "text/plain": [
       "[[1.0, 0.5, 0.3333333333333333],\n",
       " [0.5, 0.3333333333333333, 0.25],\n",
       " [0.3333333333333333, 0.25, 0.2]]"
      ]
     },
     "execution_count": 3,
     "metadata": {},
     "output_type": "execute_result"
    }
   ],
   "source": [
    "#******************8Assignment 02.2 (Linear Algebra, Hilbert Matrix, 10 points)**************************************\n",
    "#In linear algebra, a Hilbert matrix, introduced by Hilbert (1894)\n",
    "# is a square matrix with entries being the unit fractions\n",
    "import numpy as np\n",
    "import pandas as pd\n",
    "import matplotlib.pyplot as plt\n",
    "def hilmat(a, b):\n",
    "    return [[1 / (i + j + 1) for j in range(b)] for i in range(a)]\n",
    "hilmat(3,3)"
   ]
  },
  {
   "cell_type": "code",
   "execution_count": 4,
   "metadata": {},
   "outputs": [
    {
     "data": {
      "text/plain": [
       "array([[1.        , 0.5       , 0.33333333],\n",
       "       [0.5       , 0.33333333, 0.25      ],\n",
       "       [0.33333333, 0.25      , 0.2       ]])"
      ]
     },
     "execution_count": 4,
     "metadata": {},
     "output_type": "execute_result"
    }
   ],
   "source": [
    "def hilbert(k):\n",
    "    i = k\n",
    "    j = k\n",
    "    return np.fromfunction(lambda i,j: 1/(i+j+1),(i, j), dtype=float)\n",
    "hilbert(3)"
   ]
  },
  {
   "cell_type": "code",
   "execution_count": 5,
   "metadata": {},
   "outputs": [],
   "source": [
    "#Calculate the rank and condition numbers for the Hilbert matrices with diferent k. Print\n",
    "#those numbers for k 2 [1; 30].\n",
    "#Based on numpy's documentation, the definition of a matrix's condition number is,\n",
    "#\"the norm of x times the norm of the inverse of x.\"\n",
    "#||X|| * ||X^-1||"
   ]
  },
  {
   "cell_type": "code",
   "execution_count": 6,
   "metadata": {},
   "outputs": [
    {
     "name": "stdout",
     "output_type": "stream",
     "text": [
      "Rank of Hilbert Matrix with 1  rows and columns is 1\n",
      "Condition Number of Hilbert Matrix with 1  rows and columns is 1.0\n",
      "--\n"
     ]
    }
   ],
   "source": [
    "from numpy.linalg import matrix_rank\n",
    "from numpy import linalg as LA\n",
    "for k in range(1,2):\n",
    "    print('Rank of Hilbert Matrix with',k,' rows and columns is',matrix_rank(hilbert(k)))\n",
    "    print('Condition Number of Hilbert Matrix with',k,' rows and columns is',LA.cond(hilbert(k)))\n",
    "    print(\"--\")"
   ]
  },
  {
   "cell_type": "code",
   "execution_count": 7,
   "metadata": {},
   "outputs": [
    {
     "data": {
      "text/plain": [
       "'\\nUse numpy.linalg.slove() to solve the linear equations Hk \\x01 x = b, where b = (1; : : : 1) is a\\nvector of all ones. Print the solutions xk for k 2 [1; 2; 3; 5; 10; 15; 20; 30; 50; 100]. Check your\\nsolutions by again calculating jjHk \\x01 xk \\U00100000 bjj using numpy.\\nSolve the system of equations 3 * x0 + x1 = 9 and x0 + 2 * x1 = 8:'"
      ]
     },
     "execution_count": 7,
     "metadata": {},
     "output_type": "execute_result"
    }
   ],
   "source": [
    "'''\n",
    "Use numpy.linalg.slove() to solve the linear equations Hk \u0001 x = b, where b = (1; : : : 1) is a\n",
    "vector of all ones. Print the solutions xk for k 2 [1; 2; 3; 5; 10; 15; 20; 30; 50; 100]. Check your\n",
    "solutions by again calculating jjHk \u0001 xk 􀀀 bjj using numpy.\n",
    "Solve the system of equations 3 * x0 + x1 = 9 and x0 + 2 * x1 = 8:'''"
   ]
  },
  {
   "cell_type": "code",
   "execution_count": 8,
   "metadata": {},
   "outputs": [
    {
     "data": {
      "text/plain": [
       "array([2., 3.])"
      ]
     },
     "execution_count": 8,
     "metadata": {},
     "output_type": "execute_result"
    }
   ],
   "source": [
    "a = np.array([[3,1], [1,2]])\n",
    "b = np.array([9,8])\n",
    "x = np.linalg.solve(a, b)\n",
    "x"
   ]
  },
  {
   "cell_type": "code",
   "execution_count": 11,
   "metadata": {},
   "outputs": [
    {
     "name": "stdout",
     "output_type": "stream",
     "text": [
      "[1.]\n",
      "[-2.  6.]\n",
      "[  3. -24.  30.]\n",
      "[    5.  -120.   630. -1120.   630.]\n",
      "[-9.99803253e+00  9.89830120e+02 -2.37563837e+04  2.40207139e+05\n",
      " -1.26110333e+06  3.78334947e+06 -6.72601388e+06  7.00059784e+06\n",
      " -3.93786198e+06  9.23701287e+05]\n",
      "[ 1.29284099e+01 -1.86995566e+03  6.56378159e+04 -9.69667775e+05\n",
      "  7.38086691e+06 -3.12224905e+07  7.10199795e+07 -5.70923534e+07\n",
      " -1.09527731e+08  3.30023476e+08 -2.96194134e+08 -2.35261677e+07\n",
      "  2.42140586e+08 -1.73308678e+08  4.12127214e+07]\n",
      "[ 1.31969097e+01 -2.13820628e+03  8.52538953e+04 -1.44350292e+06\n",
      "  1.26416452e+07 -6.12789140e+07  1.55547284e+08 -1.08293764e+08\n",
      " -4.67185097e+08  1.33575736e+09 -1.11997395e+09 -5.28914521e+08\n",
      "  1.25744373e+09  6.95556965e+07 -9.72775389e+08  5.90350251e+08\n",
      " -9.12038011e+08  1.61348919e+09 -1.14793883e+09  2.84973966e+08]\n",
      "[ 3.55051622e+00 -5.14809578e+02  1.97437052e+04 -3.42187793e+05\n",
      "  3.19684426e+06 -1.67743224e+07  4.49724266e+07 -2.33680482e+07\n",
      " -1.86768243e+08  4.16351535e+08 -4.93178785e+06 -7.62815032e+08\n",
      "  2.10890460e+08  9.13439286e+08  7.64630114e+07 -1.03750171e+09\n",
      " -3.43943954e+08  3.77423778e+08  4.37540980e+08  7.17378631e+08\n",
      "  4.96897147e+07 -2.01571009e+09  1.28454494e+09 -5.90485901e+08\n",
      "  3.88372978e+08  2.05507700e+08  5.55444079e+08 -1.12264269e+09\n",
      "  4.08179579e+08  1.58691747e+07]\n",
      "[-2.37306632e+01  3.96268120e+03 -1.61866868e+05  2.81597920e+06\n",
      " -2.57814671e+07  1.37233923e+08 -4.43078045e+08  8.66090412e+08\n",
      " -9.66590356e+08  5.09153974e+08 -4.15385470e+07 -4.92911436e+07\n",
      "  1.48194367e+08 -9.73036947e+07 -6.51238606e+08  8.42018274e+08\n",
      "  7.69452716e+08 -8.11364267e+08 -1.18038332e+09 -7.62588286e+08\n",
      "  8.29624755e+08  3.61748277e+09  3.61898693e+08 -3.24899361e+09\n",
      " -4.78128671e+08 -1.13078789e+09 -2.04400409e+09  2.58888168e+09\n",
      "  3.27896362e+09  8.86239543e+08 -1.60143101e+09  1.34346889e+08\n",
      "  3.09408766e+08 -3.49639532e+09 -1.42661875e+09  4.30156700e+08\n",
      "  4.61000540e+08  5.32782645e+09 -4.13433326e+08 -2.16759871e+09\n",
      "  1.41083519e+08  1.55719914e+09 -4.02542394e+09 -1.28898170e+09\n",
      "  1.74376819e+09  2.30006089e+09  1.34955020e+09 -9.05717037e+08\n",
      " -3.02784434e+09  1.69222271e+09]\n",
      "[-4.30937605e+00  9.54733845e+02 -4.97035455e+04  1.07043159e+06\n",
      " -1.18484586e+07  7.45157278e+07 -2.76362509e+08  5.94348192e+08\n",
      " -6.75799408e+08  3.34761683e+08 -1.84573756e+08  1.86473189e+08\n",
      "  6.41855984e+08 -9.84557436e+08  6.36363139e+07 -3.17514005e+08\n",
      " -5.31522723e+07  1.66617625e+09 -4.18735216e+08  6.56362729e+07\n",
      " -1.07223035e+09  2.61761699e+08 -6.64790839e+08 -7.81176596e+08\n",
      "  7.05020577e+08  1.20243307e+09  2.07642726e+09 -1.19020710e+09\n",
      " -1.15535960e+09 -1.79000530e+09  1.33273967e+09  1.22480686e+09\n",
      " -6.70151249e+08 -3.14090384e+07  3.91783476e+08 -1.04543125e+09\n",
      " -5.29104151e+07  3.36222646e+07 -3.83867588e+08 -1.34944773e+09\n",
      "  2.25977730e+09  5.31318744e+08 -1.57389632e+07  1.09011945e+08\n",
      "  1.41126830e+08  1.30990962e+09 -6.33898827e+08 -1.57934744e+08\n",
      " -1.55744282e+09  2.24446452e+08 -1.22038907e+09  8.86300793e+08\n",
      " -3.91743758e+08  1.10752159e+09 -2.13190974e+09  2.04645882e+09\n",
      " -9.29218245e+08 -7.43240290e+08  6.45398490e+08  2.37031522e+08\n",
      "  1.05247251e+09 -1.98433320e+08 -1.04608251e+09  4.82015114e+08\n",
      " -7.92094446e+08  1.18640926e+09  1.45877011e+09  8.93053028e+08\n",
      " -2.28323394e+09  7.24078476e+08  4.40554646e+08  4.68202478e+08\n",
      "  1.50992805e+09 -2.29742943e+09 -8.05724489e+08 -1.48263852e+09\n",
      " -1.61531369e+09 -1.06045754e+09  1.24846219e+09  2.18572964e+09\n",
      "  2.59854617e+08  1.77623116e+08 -5.82078190e+08  1.29786781e+08\n",
      "  6.71264176e+08 -1.25656724e+09  4.61967613e+08  4.50895044e+08\n",
      "  1.21899354e+09  9.17256696e+08  2.26903535e+08  1.33020719e+09\n",
      " -2.84636117e+09 -8.64443190e+08 -1.96772388e+09  2.15155505e+09\n",
      " -9.31567856e+08 -8.88381805e+08  2.59457733e+09 -7.86303365e+08]\n"
     ]
    }
   ],
   "source": [
    "k=[1, 2, 3, 5, 10, 15, 20, 30, 50, 100]\n",
    "%matplotlib inline\n",
    "def b(i):\n",
    "    return np.full((i), 1, dtype=int)\n",
    "for i in k:\n",
    "    print(np.linalg.solve(hilbert(i),b(i)))"
   ]
  },
  {
   "cell_type": "code",
   "execution_count": 12,
   "metadata": {},
   "outputs": [
    {
     "name": "stdout",
     "output_type": "stream",
     "text": [
      "[0.]\n",
      "[0. 0.]\n",
      "[0. 0. 0.]\n",
      "[ 0.00000000e+00  0.00000000e+00  0.00000000e+00 -2.84217094e-14\n",
      "  2.84217094e-14]\n",
      "[-2.32830644e-10  0.00000000e+00  2.32830644e-10  0.00000000e+00\n",
      " -2.32830644e-10 -1.16415322e-10  1.16415322e-10  0.00000000e+00\n",
      "  0.00000000e+00 -1.16415322e-10]\n",
      "[ 0.00000000e+00  0.00000000e+00  1.86264515e-09  3.72529030e-09\n",
      " -4.65661287e-09 -1.86264515e-09  9.31322575e-10 -3.25962901e-09\n",
      "  5.58793545e-09  0.00000000e+00  0.00000000e+00 -1.86264515e-09\n",
      "  1.86264515e-09  3.72529030e-09  0.00000000e+00]\n",
      "[-2.98023224e-08  2.98023224e-08  0.00000000e+00  2.98023224e-08\n",
      " -2.98023224e-08  0.00000000e+00 -2.98023224e-08 -2.98023224e-08\n",
      " -2.98023224e-08  2.98023224e-08  4.47034836e-08 -1.49011612e-08\n",
      "  0.00000000e+00  0.00000000e+00 -1.49011612e-08  0.00000000e+00\n",
      "  0.00000000e+00  1.49011612e-08  0.00000000e+00 -1.49011612e-08]\n",
      "[-4.47034836e-08  5.96046448e-08  1.49011612e-08  2.98023224e-08\n",
      "  0.00000000e+00 -1.49011612e-08  1.49011612e-08 -2.98023224e-08\n",
      " -2.98023224e-08 -2.98023224e-08  0.00000000e+00  0.00000000e+00\n",
      "  1.49011612e-08  1.49011612e-08  0.00000000e+00  0.00000000e+00\n",
      "  1.49011612e-08 -1.49011612e-08  0.00000000e+00 -1.49011612e-08\n",
      "  0.00000000e+00 -7.45058060e-09  0.00000000e+00 -7.45058060e-09\n",
      " -2.23517418e-08 -7.45058060e-09  7.45058060e-09  0.00000000e+00\n",
      "  7.45058060e-09  0.00000000e+00]\n",
      "[ 5.96046448e-08 -1.19209290e-07  5.96046448e-08 -1.49011612e-07\n",
      "  0.00000000e+00  2.98023224e-08 -5.96046448e-08  2.98023224e-08\n",
      "  2.98023224e-08  5.96046448e-08 -2.98023224e-08 -2.98023224e-08\n",
      " -2.98023224e-08  0.00000000e+00  2.98023224e-08  8.94069672e-08\n",
      "  0.00000000e+00  5.96046448e-08  5.96046448e-08  0.00000000e+00\n",
      "  0.00000000e+00  0.00000000e+00  2.98023224e-08  7.45058060e-08\n",
      "  4.47034836e-08  5.96046448e-08 -1.49011612e-08  4.47034836e-08\n",
      "  1.49011612e-08  2.98023224e-08  1.49011612e-08  1.49011612e-08\n",
      " -1.49011612e-08  1.49011612e-08 -5.96046448e-08  1.49011612e-08\n",
      "  0.00000000e+00  0.00000000e+00  4.47034836e-08  0.00000000e+00\n",
      "  2.98023224e-08  0.00000000e+00  2.98023224e-08 -2.98023224e-08\n",
      "  0.00000000e+00  1.49011612e-08  2.98023224e-08  0.00000000e+00\n",
      "  1.49011612e-08  0.00000000e+00]\n",
      "[ 5.96046448e-08  0.00000000e+00 -2.98023224e-08 -2.98023224e-08\n",
      "  0.00000000e+00  2.98023224e-08  2.98023224e-08  2.98023224e-08\n",
      "  0.00000000e+00  1.49011612e-08  1.49011612e-08 -7.45058060e-08\n",
      "  5.96046448e-08  7.45058060e-08  0.00000000e+00  1.49011612e-08\n",
      "  4.47034836e-08 -1.49011612e-08  2.98023224e-08  1.49011612e-08\n",
      " -1.49011612e-08 -4.47034836e-08 -1.49011612e-08 -5.96046448e-08\n",
      " -1.49011612e-08  1.49011612e-08  1.49011612e-08  2.98023224e-08\n",
      " -4.47034836e-08 -1.49011612e-08 -1.49011612e-08  1.49011612e-08\n",
      " -2.98023224e-08  0.00000000e+00  1.49011612e-08 -1.49011612e-08\n",
      "  1.49011612e-08  1.49011612e-08  0.00000000e+00  2.23517418e-08\n",
      "  0.00000000e+00  7.45058060e-09 -1.49011612e-08  2.23517418e-08\n",
      " -5.21540642e-08  0.00000000e+00  7.45058060e-09  0.00000000e+00\n",
      " -1.49011612e-08  2.23517418e-08  2.23517418e-08  7.45058060e-09\n",
      " -7.45058060e-09  2.98023224e-08 -7.45058060e-09 -1.49011612e-08\n",
      "  2.98023224e-08  2.98023224e-08  2.23517418e-08 -2.23517418e-08\n",
      " -7.45058060e-09  0.00000000e+00 -2.23517418e-08  0.00000000e+00\n",
      "  2.98023224e-08 -2.98023224e-08 -2.98023224e-08 -2.23517418e-08\n",
      "  7.45058060e-09  0.00000000e+00 -2.23517418e-08 -7.45058060e-09\n",
      "  0.00000000e+00  2.23517418e-08 -7.45058060e-09  1.49011612e-08\n",
      " -7.45058060e-09  0.00000000e+00 -1.49011612e-08 -7.45058060e-09\n",
      " -7.45058060e-09 -7.45058060e-09 -7.45058060e-09  0.00000000e+00\n",
      "  7.45058060e-09 -1.49011612e-08 -7.45058060e-09  2.23517418e-08\n",
      "  7.45058060e-09  0.00000000e+00 -1.49011612e-08  7.45058060e-09\n",
      " -7.45058060e-09  0.00000000e+00  7.45058060e-09  2.23517418e-08\n",
      "  0.00000000e+00 -7.45058060e-09 -2.23517418e-08 -1.49011612e-08]\n"
     ]
    }
   ],
   "source": [
    "for i in k:\n",
    "    a=np.linalg.solve(hilbert(i),b(i))\n",
    "    c=np.dot(hilbert(i),a)\n",
    "    loss=np.subtract(c, b(i))\n",
    "    print(loss)"
   ]
  },
  {
   "cell_type": "code",
   "execution_count": 13,
   "metadata": {},
   "outputs": [
    {
     "data": {
      "text/plain": [
       "'\\nAssignment 02.3 (Housing Data Set, 10 points)\\nDownload the housing.csv dataset from the ML webpage. The dataset contains information about\\nhouses in California as of 1990: geographical location (longitude, latitude), age of the building,\\nnumber of rooms, number of bedrooms, population (number of people), number of households,\\nmedium income per household, median house value, and an annotation of ocean proximity.'"
      ]
     },
     "execution_count": 13,
     "metadata": {},
     "output_type": "execute_result"
    }
   ],
   "source": [
    "'''\n",
    "Assignment 02.3 (Housing Data Set, 10 points)\n",
    "Download the housing.csv dataset from the ML webpage. The dataset contains information about\n",
    "houses in California as of 1990: geographical location (longitude, latitude), age of the building,\n",
    "number of rooms, number of bedrooms, population (number of people), number of households,\n",
    "medium income per household, median house value, and an annotation of ocean proximity.'''"
   ]
  },
  {
   "cell_type": "code",
   "execution_count": 14,
   "metadata": {},
   "outputs": [
    {
     "data": {
      "text/html": [
       "<div>\n",
       "<style scoped>\n",
       "    .dataframe tbody tr th:only-of-type {\n",
       "        vertical-align: middle;\n",
       "    }\n",
       "\n",
       "    .dataframe tbody tr th {\n",
       "        vertical-align: top;\n",
       "    }\n",
       "\n",
       "    .dataframe thead th {\n",
       "        text-align: right;\n",
       "    }\n",
       "</style>\n",
       "<table border=\"1\" class=\"dataframe\">\n",
       "  <thead>\n",
       "    <tr style=\"text-align: right;\">\n",
       "      <th></th>\n",
       "      <th>longitude</th>\n",
       "      <th>latitude</th>\n",
       "      <th>housing_median_age</th>\n",
       "      <th>total_rooms</th>\n",
       "      <th>total_bedrooms</th>\n",
       "      <th>population</th>\n",
       "      <th>households</th>\n",
       "      <th>median_income</th>\n",
       "      <th>median_house_value</th>\n",
       "      <th>ocean_proximity</th>\n",
       "    </tr>\n",
       "  </thead>\n",
       "  <tbody>\n",
       "    <tr>\n",
       "      <th>0</th>\n",
       "      <td>-122.23</td>\n",
       "      <td>37.88</td>\n",
       "      <td>41.0</td>\n",
       "      <td>880.0</td>\n",
       "      <td>129.0</td>\n",
       "      <td>322.0</td>\n",
       "      <td>126.0</td>\n",
       "      <td>8.3252</td>\n",
       "      <td>452600.0</td>\n",
       "      <td>NEAR BAY</td>\n",
       "    </tr>\n",
       "    <tr>\n",
       "      <th>1</th>\n",
       "      <td>-122.22</td>\n",
       "      <td>37.86</td>\n",
       "      <td>21.0</td>\n",
       "      <td>7099.0</td>\n",
       "      <td>1106.0</td>\n",
       "      <td>2401.0</td>\n",
       "      <td>1138.0</td>\n",
       "      <td>8.3014</td>\n",
       "      <td>358500.0</td>\n",
       "      <td>NEAR BAY</td>\n",
       "    </tr>\n",
       "    <tr>\n",
       "      <th>2</th>\n",
       "      <td>-122.24</td>\n",
       "      <td>37.85</td>\n",
       "      <td>52.0</td>\n",
       "      <td>1467.0</td>\n",
       "      <td>190.0</td>\n",
       "      <td>496.0</td>\n",
       "      <td>177.0</td>\n",
       "      <td>7.2574</td>\n",
       "      <td>352100.0</td>\n",
       "      <td>NEAR BAY</td>\n",
       "    </tr>\n",
       "    <tr>\n",
       "      <th>3</th>\n",
       "      <td>-122.25</td>\n",
       "      <td>37.85</td>\n",
       "      <td>52.0</td>\n",
       "      <td>1274.0</td>\n",
       "      <td>235.0</td>\n",
       "      <td>558.0</td>\n",
       "      <td>219.0</td>\n",
       "      <td>5.6431</td>\n",
       "      <td>341300.0</td>\n",
       "      <td>NEAR BAY</td>\n",
       "    </tr>\n",
       "    <tr>\n",
       "      <th>4</th>\n",
       "      <td>-122.25</td>\n",
       "      <td>37.85</td>\n",
       "      <td>52.0</td>\n",
       "      <td>1627.0</td>\n",
       "      <td>280.0</td>\n",
       "      <td>565.0</td>\n",
       "      <td>259.0</td>\n",
       "      <td>3.8462</td>\n",
       "      <td>342200.0</td>\n",
       "      <td>NEAR BAY</td>\n",
       "    </tr>\n",
       "  </tbody>\n",
       "</table>\n",
       "</div>"
      ],
      "text/plain": [
       "   longitude  latitude  housing_median_age  total_rooms  total_bedrooms  \\\n",
       "0    -122.23     37.88                41.0        880.0           129.0   \n",
       "1    -122.22     37.86                21.0       7099.0          1106.0   \n",
       "2    -122.24     37.85                52.0       1467.0           190.0   \n",
       "3    -122.25     37.85                52.0       1274.0           235.0   \n",
       "4    -122.25     37.85                52.0       1627.0           280.0   \n",
       "\n",
       "   population  households  median_income  median_house_value ocean_proximity  \n",
       "0       322.0       126.0         8.3252            452600.0        NEAR BAY  \n",
       "1      2401.0      1138.0         8.3014            358500.0        NEAR BAY  \n",
       "2       496.0       177.0         7.2574            352100.0        NEAR BAY  \n",
       "3       558.0       219.0         5.6431            341300.0        NEAR BAY  \n",
       "4       565.0       259.0         3.8462            342200.0        NEAR BAY  "
      ]
     },
     "execution_count": 14,
     "metadata": {},
     "output_type": "execute_result"
    }
   ],
   "source": [
    "datanp = np.genfromtxt(\"housing.csv\", delimiter=',')\n",
    "Mydata=pd.read_csv('housing.csv',delimiter=\",\")\n",
    "Mydata.head()"
   ]
  },
  {
   "cell_type": "code",
   "execution_count": 15,
   "metadata": {},
   "outputs": [],
   "source": [
    "data_all = np.genfromtxt(\"housing.csv\", \\\n",
    "                    #dtype=None, \\\n",
    "                    dtype=float, \\\n",
    "                    delimiter=',', \\\n",
    "                    skip_header=1, \\\n",
    "                    filling_values=0, \\\n",
    "                    usecols=(0,1,2,3,4,5,6,7,8))"
   ]
  },
  {
   "cell_type": "code",
   "execution_count": 16,
   "metadata": {},
   "outputs": [],
   "source": [
    "'''For all data columns, and and print the minimum and maximum values, \f",
    "nd and print the\n",
    "indices of those values, calculate the mean value.'''\n",
    "def me_print(data):\n",
    "    print(\"min\")\n",
    "    print(np.amin(data,axis=0)) #axis=0 -> spalten (1 wäre pro zeile das min)\n",
    "    print(\"min_index\")\n",
    "    print(np.argmin(data,axis=0))#axis=0 -> spalten (1 wäre pro zeile das min)\n",
    "    print(\"max\")\n",
    "    print(np.amax(data,axis=0))#axis=0 -> spalten (1 wäre pro zeile das min)\n",
    "    print(\"max_index\")\n",
    "    print(np.argmax(data,axis=0)) #axis=0 -> spalten (1 wäre pro zeile das min)\n",
    "    print(\"mean\")\n",
    "    print(np.mean(data,axis=0)) #axis=0 -> spalten (1 wäre pro zeile das min)"
   ]
  },
  {
   "cell_type": "code",
   "execution_count": 17,
   "metadata": {},
   "outputs": [
    {
     "name": "stdout",
     "output_type": "stream",
     "text": [
      "longitude =\n",
      "min\n",
      "-122.22\n",
      "min_index\n",
      "0\n",
      "max\n",
      "358500.0\n",
      "max_index\n",
      "8\n",
      "mean\n",
      "41132.1046\n"
     ]
    }
   ],
   "source": [
    "print(\"longitude =\")\n",
    "me_print(data_all[1])"
   ]
  },
  {
   "cell_type": "code",
   "execution_count": 18,
   "metadata": {},
   "outputs": [
    {
     "data": {
      "image/png": "[encoded data removed]",
      "text/plain": [
       "<Figure size 432x288 with 1 Axes>"
      ]
     },
     "metadata": {
      "needs_background": "light"
     },
     "output_type": "display_data"
    },
    {
     "data": {
      "image/png": "[encoded data removed]",
      "text/plain": [
       "<Figure size 432x288 with 1 Axes>"
      ]
     },
     "metadata": {
      "needs_background": "light"
     },
     "output_type": "display_data"
    },
    {
     "data": {
      "image/png": "[encoded data removed]",
      "text/plain": [
       "<Figure size 432x288 with 1 Axes>"
      ]
     },
     "metadata": {
      "needs_background": "light"
     },
     "output_type": "display_data"
    },
    {
     "data": {
      "image/png": "[encoded data removed]",
      "text/plain": [
       "<Figure size 432x288 with 1 Axes>"
      ]
     },
     "metadata": {
      "needs_background": "light"
     },
     "output_type": "display_data"
    },
    {
     "data": {
      "image/png": "[encoded data removed]",
      "text/plain": [
       "<Figure size 432x288 with 1 Axes>"
      ]
     },
     "metadata": {
      "needs_background": "light"
     },
     "output_type": "display_data"
    },
    {
     "data": {
      "image/png": "[encoded data removed]",
      "text/plain": [
       "<Figure size 432x288 with 1 Axes>"
      ]
     },
     "metadata": {
      "needs_background": "light"
     },
     "output_type": "display_data"
    },
    {
     "data": {
      "image/png": "[encoded data removed]",
      "text/plain": [
       "<Figure size 432x288 with 1 Axes>"
      ]
     },
     "metadata": {
      "needs_background": "light"
     },
     "output_type": "display_data"
    }
   ],
   "source": [
    "data_d = data_all[:,[2,3,4,5,6,7,8]]\n",
    "d1 = data_d[:,0] #housing_median_age\n",
    "d2 = data_d[:,1] #total_rooms\n",
    "d3 = data_d[:,2] #total_bedrooms\n",
    "d4 = data_d[:,3] #population\n",
    "d5 = data_d[:,4] #households\n",
    "d6 = data_d[:,5] #median_income\n",
    "d7 = data_d[:,6] #median_house_value\n",
    "plt.figure(1)\n",
    "plt.hist(d1,bins=\"auto\") \n",
    "plt.figure(2)\n",
    "plt.hist(d2,bins=\"auto\") #  kinda      # <- decomment for plot_data\n",
    "plt.figure(3)\n",
    "plt.hist(d3,bins=\"auto\") #  yes        # ---\n",
    "plt.figure(4)\n",
    "plt.hist(d4,bins=\"auto\") #  yes\n",
    "plt.figure(5)\n",
    "plt.hist(d5,bins=\"auto\") #  yes\n",
    "plt.figure(6)\n",
    "plt.hist(d6,bins=\"auto\") #  yes\n",
    "plt.figure(7)\n",
    "plt.hist(d7,bins=\"auto\") #  yes\n",
    "plt.show() "
   ]
  },
  {
   "cell_type": "code",
   "execution_count": 19,
   "metadata": {},
   "outputs": [
    {
     "data": {
      "image/png": "[encoded data removed]",
      "text/plain": [
       "<Figure size 432x288 with 2 Axes>"
      ]
     },
     "metadata": {
      "needs_background": "light"
     },
     "output_type": "display_data"
    }
   ],
   "source": [
    "'''Generate a geographical map of the houses using a scatter plot based on the longitude and\n",
    "latitude data. Play with transparency (e.g., use alpha 0.1) for less clutter. Next, use a color\n",
    "scale (e.g. blue to red) to color-encode the house value in the scatter plot.'''\n",
    "koords = data_all[:,[0,1]] # longi + alti\n",
    "plt.scatter(koords[:,0],koords[:,1], c=d7, alpha=0.1, s=15)\n",
    "bar = plt.colorbar()\n",
    "bar.set_label(\"Price\")\n",
    "#plt.show() "
   ]
  },
  {
   "cell_type": "code",
   "execution_count": 20,
   "metadata": {},
   "outputs": [],
   "source": [
    "'''Split the dataset randomly into a training set (80% of the data points) and a test set (20%\n",
    "of the data points). Use a \f",
    "xed random seed, so that your split can be reproduced later. For\n",
    "both sets, repeat the calculation of the minimum, maximum, and mean values. Does your\n",
    "test-set match the distribution in the training-set?'''\n",
    "np.random.seed(10865465)\n",
    "np.random.shuffle(data_all)\n",
    "d_test,d_training = data_d[:int(20640/5),:], data_d[int(20640/5):,:]"
   ]
  },
  {
   "cell_type": "code",
   "execution_count": 21,
   "metadata": {},
   "outputs": [],
   "source": [
    "def MSE(yHat, y):\n",
    "    return np.sum((yHat - y)**2) / y.size\n",
    "# calculates distance in degree\n",
    "def dist(a,b):\n",
    "    return np.linalg.norm(a-b)"
   ]
  },
  {
   "cell_type": "code",
   "execution_count": 22,
   "metadata": {},
   "outputs": [],
   "source": [
    "data_all = np.genfromtxt(\"housing.csv\", \\\n",
    "                    #dtype=None, \\\n",
    "                    dtype=float, \\\n",
    "                    delimiter=',', \\\n",
    "                    skip_header=1, \\\n",
    "                    filling_values=0, \\\n",
    "                    usecols=(0,1,2,3,4,5,6,7,8))"
   ]
  },
  {
   "cell_type": "code",
   "execution_count": 23,
   "metadata": {},
   "outputs": [
    {
     "data": {
      "text/html": [
       "<div>\n",
       "<style scoped>\n",
       "    .dataframe tbody tr th:only-of-type {\n",
       "        vertical-align: middle;\n",
       "    }\n",
       "\n",
       "    .dataframe tbody tr th {\n",
       "        vertical-align: top;\n",
       "    }\n",
       "\n",
       "    .dataframe thead th {\n",
       "        text-align: right;\n",
       "    }\n",
       "</style>\n",
       "<table border=\"1\" class=\"dataframe\">\n",
       "  <thead>\n",
       "    <tr style=\"text-align: right;\">\n",
       "      <th></th>\n",
       "      <th>longitude</th>\n",
       "      <th>latitude</th>\n",
       "      <th>housing_median_age</th>\n",
       "      <th>total_rooms</th>\n",
       "      <th>total_bedrooms</th>\n",
       "      <th>population</th>\n",
       "      <th>households</th>\n",
       "      <th>median_income</th>\n",
       "      <th>median_house_value</th>\n",
       "      <th>ocean_proximity</th>\n",
       "    </tr>\n",
       "  </thead>\n",
       "  <tbody>\n",
       "    <tr>\n",
       "      <th>0</th>\n",
       "      <td>-122.23</td>\n",
       "      <td>37.88</td>\n",
       "      <td>41.0</td>\n",
       "      <td>880.0</td>\n",
       "      <td>129.0</td>\n",
       "      <td>322.0</td>\n",
       "      <td>126.0</td>\n",
       "      <td>8.3252</td>\n",
       "      <td>452600.0</td>\n",
       "      <td>NEAR BAY</td>\n",
       "    </tr>\n",
       "    <tr>\n",
       "      <th>1</th>\n",
       "      <td>-122.22</td>\n",
       "      <td>37.86</td>\n",
       "      <td>21.0</td>\n",
       "      <td>7099.0</td>\n",
       "      <td>1106.0</td>\n",
       "      <td>2401.0</td>\n",
       "      <td>1138.0</td>\n",
       "      <td>8.3014</td>\n",
       "      <td>358500.0</td>\n",
       "      <td>NEAR BAY</td>\n",
       "    </tr>\n",
       "    <tr>\n",
       "      <th>2</th>\n",
       "      <td>-122.24</td>\n",
       "      <td>37.85</td>\n",
       "      <td>52.0</td>\n",
       "      <td>1467.0</td>\n",
       "      <td>190.0</td>\n",
       "      <td>496.0</td>\n",
       "      <td>177.0</td>\n",
       "      <td>7.2574</td>\n",
       "      <td>352100.0</td>\n",
       "      <td>NEAR BAY</td>\n",
       "    </tr>\n",
       "    <tr>\n",
       "      <th>3</th>\n",
       "      <td>-122.25</td>\n",
       "      <td>37.85</td>\n",
       "      <td>52.0</td>\n",
       "      <td>1274.0</td>\n",
       "      <td>235.0</td>\n",
       "      <td>558.0</td>\n",
       "      <td>219.0</td>\n",
       "      <td>5.6431</td>\n",
       "      <td>341300.0</td>\n",
       "      <td>NEAR BAY</td>\n",
       "    </tr>\n",
       "    <tr>\n",
       "      <th>4</th>\n",
       "      <td>-122.25</td>\n",
       "      <td>37.85</td>\n",
       "      <td>52.0</td>\n",
       "      <td>1627.0</td>\n",
       "      <td>280.0</td>\n",
       "      <td>565.0</td>\n",
       "      <td>259.0</td>\n",
       "      <td>3.8462</td>\n",
       "      <td>342200.0</td>\n",
       "      <td>NEAR BAY</td>\n",
       "    </tr>\n",
       "  </tbody>\n",
       "</table>\n",
       "</div>"
      ],
      "text/plain": [
       "   longitude  latitude  housing_median_age  total_rooms  total_bedrooms  \\\n",
       "0    -122.23     37.88                41.0        880.0           129.0   \n",
       "1    -122.22     37.86                21.0       7099.0          1106.0   \n",
       "2    -122.24     37.85                52.0       1467.0           190.0   \n",
       "3    -122.25     37.85                52.0       1274.0           235.0   \n",
       "4    -122.25     37.85                52.0       1627.0           280.0   \n",
       "\n",
       "   population  households  median_income  median_house_value ocean_proximity  \n",
       "0       322.0       126.0         8.3252            452600.0        NEAR BAY  \n",
       "1      2401.0      1138.0         8.3014            358500.0        NEAR BAY  \n",
       "2       496.0       177.0         7.2574            352100.0        NEAR BAY  \n",
       "3       558.0       219.0         5.6431            341300.0        NEAR BAY  \n",
       "4       565.0       259.0         3.8462            342200.0        NEAR BAY  "
      ]
     },
     "execution_count": 23,
     "metadata": {},
     "output_type": "execute_result"
    }
   ],
   "source": [
    "import pandas as pd\n",
    "#read in the data using pandas\n",
    "df = pd.read_csv(\"housing.csv\")\n",
    "#check data has been read in properly\n",
    "df.head()"
   ]
  },
  {
   "cell_type": "code",
   "execution_count": 24,
   "metadata": {},
   "outputs": [
    {
     "data": {
      "text/plain": [
       "(20640, 10)"
      ]
     },
     "execution_count": 24,
     "metadata": {},
     "output_type": "execute_result"
    }
   ],
   "source": [
    "#check number of rows and columns in dataset\n",
    "df.shape"
   ]
  },
  {
   "cell_type": "code",
   "execution_count": 25,
   "metadata": {},
   "outputs": [],
   "source": [
    "#Split up the dataset into inputs and targets\n",
    "#create a dataframe with all training data except the target column\n",
    "#X = df.drop(columns=['median_house_value'])\n",
    "X=df.iloc[:,0:2].values"
   ]
  },
  {
   "cell_type": "code",
   "execution_count": 26,
   "metadata": {},
   "outputs": [
    {
     "data": {
      "text/plain": [
       "array([[-122.23,   37.88],\n",
       "       [-122.22,   37.86],\n",
       "       [-122.24,   37.85],\n",
       "       ...,\n",
       "       [-121.22,   39.43],\n",
       "       [-121.32,   39.43],\n",
       "       [-121.24,   39.37]])"
      ]
     },
     "execution_count": 26,
     "metadata": {},
     "output_type": "execute_result"
    }
   ],
   "source": [
    "X"
   ]
  },
  {
   "cell_type": "code",
   "execution_count": 27,
   "metadata": {},
   "outputs": [
    {
     "data": {
      "text/plain": [
       "array([452600., 358500., 352100., ...,  92300.,  84700.,  89400.])"
      ]
     },
     "execution_count": 27,
     "metadata": {},
     "output_type": "execute_result"
    }
   ],
   "source": [
    "#separate target values\n",
    "y = df['median_house_value'].values\n",
    "#view target values\n",
    "y"
   ]
  },
  {
   "cell_type": "code",
   "execution_count": 28,
   "metadata": {},
   "outputs": [],
   "source": [
    "#Split the dataset into train and test data\n",
    "from sklearn.model_selection import train_test_split\n",
    "#split dataset into train and test data\n",
    "X_train, X_test, y_train, y_test = train_test_split(X, y, test_size=0.2, random_state=1)"
   ]
  },
  {
   "cell_type": "code",
   "execution_count": 29,
   "metadata": {},
   "outputs": [
    {
     "data": {
      "text/plain": [
       "KNeighborsClassifier(algorithm='auto', leaf_size=30, metric='minkowski',\n",
       "           metric_params=None, n_jobs=None, n_neighbors=3, p=2,\n",
       "           weights='uniform')"
      ]
     },
     "execution_count": 29,
     "metadata": {},
     "output_type": "execute_result"
    }
   ],
   "source": [
    "#Building and training the model\n",
    "# Create KNN classifier\n",
    "from sklearn.neighbors import KNeighborsClassifier\n",
    "knn = KNeighborsClassifier(n_neighbors = 3)\n",
    "# Fit the classifier to the data\n",
    "knn.fit(X_train,y_train)"
   ]
  },
  {
   "cell_type": "code",
   "execution_count": 30,
   "metadata": {},
   "outputs": [
    {
     "data": {
      "text/plain": [
       "array([355200.,  67300., 246400., 102100., 226000.])"
      ]
     },
     "execution_count": 30,
     "metadata": {},
     "output_type": "execute_result"
    }
   ],
   "source": [
    "#show first 5 model predictions on the test data\n",
    "knn.predict(X_test)[0:5]"
   ]
  },
  {
   "cell_type": "code",
   "execution_count": 31,
   "metadata": {},
   "outputs": [
    {
     "data": {
      "text/plain": [
       "0.024709302325581394"
      ]
     },
     "execution_count": 31,
     "metadata": {},
     "output_type": "execute_result"
    }
   ],
   "source": [
    "#check accuracy of our model on the test data\n",
    "knn.score(X_test, y_test)"
   ]
  },
  {
   "cell_type": "code",
   "execution_count": null,
   "metadata": {},
   "outputs": [],
   "source": []
  }
 ],
 "metadata": {
  "kernelspec": {
   "display_name": "Python 3",
   "language": "python",
   "name": "python3"
  },
  "language_info": {
   "codemirror_mode": {
    "name": "ipython",
    "version": 3
   },
   "file_extension": ".py",
   "mimetype": "text/x-python",
   "name": "python",
   "nbconvert_exporter": "python",
   "pygments_lexer": "ipython3",
   "version": "3.6.8"
  }
 },
 "nbformat": 4,
 "nbformat_minor": 2
}
